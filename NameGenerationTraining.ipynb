{
 "cells": [
  {
   "cell_type": "code",
   "execution_count": 378,
   "metadata": {
    "collapsed": false
   },
   "outputs": [],
   "source": [
    "import numpy as np\n",
    "import pandas as pd\n",
    "from utils import *\n",
    "import random\n",
    "import re\n",
    "import keras.utils\n",
    "from keras.models import Sequential\n",
    "from keras.layers import Dense, Activation\n",
    "from keras.layers import Dense, Dropout\n",
    "from keras.layers import Embedding\n",
    "from keras.layers import LSTM\n",
    "from keras.models import load_model\n",
    "from pickle import dump, load\n",
    "import keras.backend as K"
   ]
  },
  {
   "cell_type": "code",
   "execution_count": 90,
   "metadata": {
    "collapsed": false
   },
   "outputs": [],
   "source": [
    "\n",
    "data = pd.read_excel(\"boysname.xls\")\n"
   ]
  },
  {
   "cell_type": "code",
   "execution_count": 91,
   "metadata": {
    "collapsed": false
   },
   "outputs": [],
   "source": [
    "data = data['BoysName']"
   ]
  },
  {
   "cell_type": "code",
   "execution_count": 92,
   "metadata": {
    "collapsed": false
   },
   "outputs": [
    {
     "name": "stdout",
     "output_type": "stream",
     "text": [
      "2468\n"
     ]
    }
   ],
   "source": [
    "print (len(data))"
   ]
  },
  {
   "cell_type": "code",
   "execution_count": 93,
   "metadata": {
    "collapsed": false
   },
   "outputs": [],
   "source": [
    "def splitword(word):\n",
    "    return list(word.lower())"
   ]
  },
  {
   "cell_type": "code",
   "execution_count": 94,
   "metadata": {
    "collapsed": false
   },
   "outputs": [],
   "source": [
    "data = data.apply(splitword)"
   ]
  },
  {
   "cell_type": "code",
   "execution_count": 95,
   "metadata": {
    "collapsed": false
   },
   "outputs": [
    {
     "data": {
      "text/plain": [
       "0    [a, a, c, h, m, a, n,  ]\n",
       "1       [a, a, d, e, s, h,  ]\n",
       "2                [a, a, d, i]\n",
       "3    [a, a, f, r, e, e, n,  ]\n",
       "4          [a, a, k, a, r,  ]\n",
       "Name: BoysName, dtype: object"
      ]
     },
     "execution_count": 95,
     "metadata": {},
     "output_type": "execute_result"
    }
   ],
   "source": [
    "data.head(5)"
   ]
  },
  {
   "cell_type": "code",
   "execution_count": 97,
   "metadata": {
    "collapsed": false
   },
   "outputs": [],
   "source": [
    "def removeduplicatenames(wordlist):\n",
    "    chars = []\n",
    "    for character in wordlist:\n",
    "        chars.append(character)\n",
    "        if character == ' ':\n",
    "            break\n",
    "    return chars"
   ]
  },
  {
   "cell_type": "code",
   "execution_count": 98,
   "metadata": {
    "collapsed": true
   },
   "outputs": [],
   "source": [
    "data = data.apply(removeduplicatenames)"
   ]
  },
  {
   "cell_type": "code",
   "execution_count": 99,
   "metadata": {
    "collapsed": false
   },
   "outputs": [
    {
     "name": "stdout",
     "output_type": "stream",
     "text": [
      "['c', 'h', 'i', 'n', 't', 'h', 'a', 'n', 'a', 'i', 'c', 'h', 'e', 'l', 'v', 'a', 'n']\n",
      "['s', 'h', 'i', 'r', 's', 'h', 'i', 'r', 'c', 'h', 'a', 'n', 'd', 'r', 'a', ' ']\n"
     ]
    }
   ],
   "source": [
    "\n",
    "\n",
    "def uniquechars(data):\n",
    "    chars = []\n",
    "    for wordlist in list(data):\n",
    "        for character in wordlist:\n",
    "            chars.append(character)\n",
    "            if character == ' ':\n",
    "                break\n",
    "    return set(chars)\n",
    "\n",
    "\n",
    "def seqlength(data):\n",
    "    seqlength = []\n",
    "    for wordlist in list(data):\n",
    "        seqlength.append(len(wordlist))\n",
    "        if len(wordlist) > 15:\n",
    "            print (wordlist)\n",
    "    return seqlength\n",
    "\n",
    "chars = uniquechars(data)\n",
    "seqlength = seqlength(data)"
   ]
  },
  {
   "cell_type": "code",
   "execution_count": 100,
   "metadata": {
    "collapsed": false
   },
   "outputs": [
    {
     "name": "stdout",
     "output_type": "stream",
     "text": [
      "17\n"
     ]
    }
   ],
   "source": [
    "print (max(seqlength))"
   ]
  },
  {
   "cell_type": "code",
   "execution_count": 101,
   "metadata": {
    "collapsed": false
   },
   "outputs": [
    {
     "name": "stdout",
     "output_type": "stream",
     "text": [
      "There are 2468 total characters and 27 unique characters in your data.\n"
     ]
    }
   ],
   "source": [
    "data_size, vocab_size = len(data), len(chars)\n",
    "print('There are %d total characters and %d unique characters in your data.' % (data_size, vocab_size))"
   ]
  },
  {
   "cell_type": "code",
   "execution_count": 102,
   "metadata": {
    "collapsed": false
   },
   "outputs": [
    {
     "name": "stdout",
     "output_type": "stream",
     "text": [
      "{0: ' ', 1: ',', 2: 'a', 3: 'b', 4: 'c', 5: 'd', 6: 'e', 7: 'f', 8: 'g', 9: 'h', 10: 'i', 11: 'j', 12: 'k', 13: 'l', 14: 'm', 15: 'n', 16: 'o', 17: 'p', 18: 'q', 19: 'r', 20: 's', 21: 't', 22: 'u', 23: 'v', 24: 'w', 25: 'y', 26: 'z'}\n"
     ]
    }
   ],
   "source": [
    "char_to_ix = { ch:i for i,ch in enumerate(sorted(chars)) }\n",
    "ix_to_char = { i:ch for i,ch in enumerate(sorted(chars)) }\n",
    "print(ix_to_char)\n"
   ]
  },
  {
   "cell_type": "code",
   "execution_count": 103,
   "metadata": {
    "collapsed": false
   },
   "outputs": [
    {
     "name": "stdout",
     "output_type": "stream",
     "text": [
      "0\n"
     ]
    }
   ],
   "source": [
    "print (char_to_ix[' '])"
   ]
  },
  {
   "cell_type": "code",
   "execution_count": 289,
   "metadata": {
    "collapsed": true
   },
   "outputs": [],
   "source": [
    "def name_to_vec(wordlist):\n",
    "#     print (wordlist)\n",
    "    v = np.zeros(17, dtype=int)\n",
    "   \n",
    "    null_idx = char_to_ix [' ']\n",
    "    v.fill(null_idx)\n",
    "#     print (v)\n",
    "    i = 0\n",
    "    \n",
    "    for charvalue in wordlist:\n",
    "        v[i] = char_to_ix [charvalue]\n",
    "        i = i + 1\n",
    "        \n",
    "    return v"
   ]
  },
  {
   "cell_type": "code",
   "execution_count": 290,
   "metadata": {
    "collapsed": false
   },
   "outputs": [
    {
     "data": {
      "text/plain": [
       "array([15,  2, 21,  6,  0,  0,  0,  0,  0,  0,  0,  0,  0,  0,  0,  0,  0])"
      ]
     },
     "execution_count": 290,
     "metadata": {},
     "output_type": "execute_result"
    }
   ],
   "source": [
    "name_to_vec('nate')"
   ]
  },
  {
   "cell_type": "code",
   "execution_count": 106,
   "metadata": {
    "collapsed": false
   },
   "outputs": [],
   "source": [
    "data = data.apply(name_to_vec)"
   ]
  },
  {
   "cell_type": "code",
   "execution_count": 107,
   "metadata": {
    "collapsed": false
   },
   "outputs": [
    {
     "data": {
      "text/plain": [
       "0    [2, 2, 4, 9, 14, 2, 15, 0, 0, 0, 0, 0, 0, 0, 0...\n",
       "1    [2, 2, 5, 6, 20, 9, 0, 0, 0, 0, 0, 0, 0, 0, 0,...\n",
       "2    [2, 2, 5, 10, 0, 0, 0, 0, 0, 0, 0, 0, 0, 0, 0,...\n",
       "3    [2, 2, 7, 19, 6, 6, 15, 0, 0, 0, 0, 0, 0, 0, 0...\n",
       "4    [2, 2, 12, 2, 19, 0, 0, 0, 0, 0, 0, 0, 0, 0, 0...\n",
       "Name: BoysName, dtype: object"
      ]
     },
     "execution_count": 107,
     "metadata": {},
     "output_type": "execute_result"
    }
   ],
   "source": [
    "data.head(5)"
   ]
  },
  {
   "cell_type": "code",
   "execution_count": 108,
   "metadata": {
    "collapsed": false
   },
   "outputs": [
    {
     "name": "stdout",
     "output_type": "stream",
     "text": [
      "<class 'pandas.core.series.Series'>\n"
     ]
    }
   ],
   "source": [
    "print (type(data))"
   ]
  },
  {
   "cell_type": "code",
   "execution_count": 135,
   "metadata": {
    "collapsed": true
   },
   "outputs": [],
   "source": [
    "y = data"
   ]
  },
  {
   "cell_type": "code",
   "execution_count": 136,
   "metadata": {
    "collapsed": false
   },
   "outputs": [
    {
     "name": "stdout",
     "output_type": "stream",
     "text": [
      "(2468,)\n"
     ]
    }
   ],
   "source": [
    "print (y.shape)"
   ]
  },
  {
   "cell_type": "code",
   "execution_count": 137,
   "metadata": {
    "collapsed": false
   },
   "outputs": [
    {
     "name": "stdout",
     "output_type": "stream",
     "text": [
      "<class 'pandas.core.series.Series'>\n"
     ]
    }
   ],
   "source": [
    "print (type(y))"
   ]
  },
  {
   "cell_type": "code",
   "execution_count": 138,
   "metadata": {
    "collapsed": false
   },
   "outputs": [
    {
     "name": "stdout",
     "output_type": "stream",
     "text": [
      "(2468,)\n"
     ]
    }
   ],
   "source": [
    "print (y.shape)"
   ]
  },
  {
   "cell_type": "code",
   "execution_count": 139,
   "metadata": {
    "collapsed": false
   },
   "outputs": [
    {
     "data": {
      "text/plain": [
       "0    [2, 2, 4, 9, 14, 2, 15, 0, 0, 0, 0, 0, 0, 0, 0...\n",
       "1    [2, 2, 5, 6, 20, 9, 0, 0, 0, 0, 0, 0, 0, 0, 0,...\n",
       "2    [2, 2, 5, 10, 0, 0, 0, 0, 0, 0, 0, 0, 0, 0, 0,...\n",
       "3    [2, 2, 7, 19, 6, 6, 15, 0, 0, 0, 0, 0, 0, 0, 0...\n",
       "4    [2, 2, 12, 2, 19, 0, 0, 0, 0, 0, 0, 0, 0, 0, 0...\n",
       "Name: BoysName, dtype: object"
      ]
     },
     "execution_count": 139,
     "metadata": {},
     "output_type": "execute_result"
    }
   ],
   "source": [
    "y.head(5)"
   ]
  },
  {
   "cell_type": "code",
   "execution_count": 140,
   "metadata": {
    "collapsed": false
   },
   "outputs": [],
   "source": [
    "def shiftoleft(wordlist,charvalue=char_to_ix[' ']):\n",
    "    wordlist = wordlist[1:]\n",
    "    wordlist = np.append(wordlist,charvalue)\n",
    "    return wordlist\n",
    "    "
   ]
  },
  {
   "cell_type": "code",
   "execution_count": 141,
   "metadata": {
    "collapsed": false
   },
   "outputs": [
    {
     "data": {
      "text/plain": [
       "0       [2, 4, 9, 14, 2, 15, 0, 0, 0, 0, 0, 0, 0, 0, 0...\n",
       "1       [2, 5, 6, 20, 9, 0, 0, 0, 0, 0, 0, 0, 0, 0, 0,...\n",
       "2       [2, 5, 10, 0, 0, 0, 0, 0, 0, 0, 0, 0, 0, 0, 0,...\n",
       "3       [2, 7, 19, 6, 6, 15, 0, 0, 0, 0, 0, 0, 0, 0, 0...\n",
       "4       [2, 12, 2, 19, 0, 0, 0, 0, 0, 0, 0, 0, 0, 0, 0...\n",
       "5       [2, 12, 2, 20, 9, 0, 0, 0, 0, 0, 0, 0, 0, 0, 0...\n",
       "6       [2, 13, 2, 17, 0, 0, 0, 0, 0, 0, 0, 0, 0, 0, 0...\n",
       "7       [2, 15, 5, 2, 13, 6, 6, 3, 0, 0, 0, 0, 0, 0, 0...\n",
       "8       [2, 20, 9, 10, 20, 9, 0, 0, 0, 0, 0, 0, 0, 0, ...\n",
       "9       [3, 6, 6, 19, 0, 0, 0, 0, 0, 0, 0, 0, 0, 0, 0,...\n",
       "10      [3, 9, 2, 25, 0, 0, 0, 0, 0, 0, 0, 0, 0, 0, 0,...\n",
       "11      [3, 9, 2, 25, 2, 15, 2, 15, 5, 2, 0, 0, 0, 0, ...\n",
       "12      [3, 9, 2, 25, 2, 17, 19, 2, 5, 2, 0, 0, 0, 0, ...\n",
       "13      [3, 9, 6, 6, 12, 0, 0, 0, 0, 0, 0, 0, 0, 0, 0,...\n",
       "14      [3, 9, 10, 0, 0, 0, 0, 0, 0, 0, 0, 0, 0, 0, 0,...\n",
       "15      [3, 9, 10, 3, 9, 2, 23, 2, 0, 0, 0, 0, 0, 0, 0...\n",
       "16      [3, 9, 10, 4, 2, 15, 5, 19, 2, 0, 0, 0, 0, 0, ...\n",
       "17      [3, 9, 10, 5, 10, 0, 0, 0, 0, 0, 0, 0, 0, 0, 0...\n",
       "18      [3, 9, 10, 9, 10, 21, 2, 0, 0, 0, 0, 0, 0, 0, ...\n",
       "19      [3, 9, 10, 11, 2, 21, 0, 0, 0, 0, 0, 0, 0, 0, ...\n",
       "20      [3, 9, 10, 11, 2, 25, 2, 0, 0, 0, 0, 0, 0, 0, ...\n",
       "21      [3, 9, 10, 11, 10, 21, 0, 0, 0, 0, 0, 0, 0, 0,...\n",
       "22      [3, 9, 10, 11, 23, 2, 13, 2, 0, 0, 0, 0, 0, 0,...\n",
       "23      [3, 9, 10, 13, 2, 20, 9, 0, 0, 0, 0, 0, 0, 0, ...\n",
       "24      [3, 9, 10, 14, 2, 15, 5, 0, 0, 0, 0, 0, 0, 0, ...\n",
       "25      [3, 9, 10, 14, 2, 15, 10, 0, 0, 0, 0, 0, 0, 0,...\n",
       "26      [3, 9, 10, 14, 2, 15, 25, 22, 0, 0, 0, 0, 0, 0...\n",
       "27      [3, 9, 10, 14, 2, 15, 25, 22, 20, 22, 21, 2, 0...\n",
       "28      [3, 9, 10, 14, 16, 5, 2, 0, 0, 0, 0, 0, 0, 0, ...\n",
       "29      [3, 9, 10, 15, 2, 3, 9, 2, 20, 0, 0, 0, 0, 0, ...\n",
       "                              ...                        \n",
       "2438    [2, 5, 2, 23, 0, 0, 0, 0, 0, 0, 0, 0, 0, 0, 0,...\n",
       "2439    [2, 5, 2, 23, 6, 15, 5, 19, 2, 0, 0, 0, 0, 0, ...\n",
       "2440    [2, 5, 22, 15, 2, 15, 5, 2, 15, 0, 0, 0, 0, 0,...\n",
       "2441    [2, 5, 22, 15, 2, 21, 9, 0, 0, 0, 0, 0, 0, 0, ...\n",
       "2442    [2, 5, 22, 19, 2, 11, 0, 0, 0, 0, 0, 0, 0, 0, ...\n",
       "2443    [2, 5, 22, 23, 10, 19, 0, 0, 0, 0, 0, 0, 0, 0,...\n",
       "2444    [2, 8, 15, 2, 0, 0, 0, 0, 0, 0, 0, 0, 0, 0, 0,...\n",
       "2445    [2, 9, 25, 2, 2, 0, 0, 0, 0, 0, 0, 0, 0, 0, 0,...\n",
       "2446    [2, 11, 2, 21, 0, 0, 0, 0, 0, 0, 0, 0, 0, 0, 0...\n",
       "2447    [2, 11, 15, 2, 5, 9, 2, 19, 0, 0, 0, 0, 0, 0, ...\n",
       "2448    [2, 11, 15, 2, 19, 22, 17, 0, 0, 0, 0, 0, 0, 0...\n",
       "2449    [2, 11, 15, 6, 20, 9, 0, 0, 0, 0, 0, 0, 0, 0, ...\n",
       "2450    [2, 14, 2, 11, 10, 21, 9, 0, 0, 0, 0, 0, 0, 0,...\n",
       "2451    [2, 20, 9, 0, 0, 0, 0, 0, 0, 0, 0, 0, 0, 0, 0,...\n",
       "2452    [2, 20, 9, 16, 5, 9, 2, 15, 0, 0, 0, 0, 0, 0, ...\n",
       "2453    [2, 20, 9, 16, 5, 9, 2, 19, 2, 0, 0, 0, 0, 0, ...\n",
       "2454    [2, 20, 9, 17, 2, 13, 0, 0, 0, 0, 0, 0, 0, 0, ...\n",
       "2455    [2, 20, 9, 24, 2, 15, 21, 0, 0, 0, 0, 0, 0, 0,...\n",
       "2456    [2, 21, 10, 15, 0, 0, 0, 0, 0, 0, 0, 0, 0, 0, ...\n",
       "2457    [2, 21, 10, 15, 5, 19, 2, 0, 0, 0, 0, 0, 0, 0,...\n",
       "2458    [2, 25, 10, 15, 0, 0, 0, 0, 0, 0, 0, 0, 0, 0, ...\n",
       "2459    [16, 8, 2, 15, 2, 15, 5, 0, 0, 0, 0, 0, 0, 0, ...\n",
       "2460    [16, 8, 6, 15, 5, 19, 2, 0, 0, 0, 0, 0, 0, 0, ...\n",
       "2461    [16, 8, 6, 20, 9, 0, 0, 0, 0, 0, 0, 0, 0, 0, 0...\n",
       "2462    [22, 5, 9, 2, 11, 10, 21, 0, 0, 0, 0, 0, 0, 0,...\n",
       "2463    [22, 5, 9, 10, 20, 21, 9, 10, 19, 0, 0, 0, 0, ...\n",
       "2464    [22, 8, 14, 2, 0, 0, 0, 0, 0, 0, 0, 0, 0, 0, 0...\n",
       "2465    [22, 12, 21, 2, 0, 0, 0, 0, 0, 0, 0, 0, 0, 0, ...\n",
       "2466    [22, 23, 2, 19, 2, 11, 0, 0, 0, 0, 0, 0, 0, 0,...\n",
       "2467    [22, 25, 22, 21, 20, 22, 0, 0, 0, 0, 0, 0, 0, ...\n",
       "Name: BoysName, Length: 2468, dtype: object"
      ]
     },
     "execution_count": 141,
     "metadata": {},
     "output_type": "execute_result"
    }
   ],
   "source": [
    "y.apply(shiftoleft)"
   ]
  },
  {
   "cell_type": "code",
   "execution_count": 142,
   "metadata": {
    "collapsed": false
   },
   "outputs": [
    {
     "name": "stdout",
     "output_type": "stream",
     "text": [
      "[ 2  2  4  9 14  2 15  0  0  0  0  0  0  0  0  0  0]\n"
     ]
    }
   ],
   "source": [
    "print (y[0])"
   ]
  },
  {
   "cell_type": "code",
   "execution_count": 143,
   "metadata": {
    "collapsed": false
   },
   "outputs": [
    {
     "name": "stdout",
     "output_type": "stream",
     "text": [
      "[ 2  2  4  9 14  2 15  0  0  0  0  0  0  0  0  0  0]\n"
     ]
    }
   ],
   "source": [
    "print (data[0])"
   ]
  },
  {
   "cell_type": "code",
   "execution_count": 144,
   "metadata": {
    "collapsed": false
   },
   "outputs": [
    {
     "name": "stdout",
     "output_type": "stream",
     "text": [
      "[ 2  2  4  9 14  2 15  0  0  0  0  0  0  0  0  0  0]\n"
     ]
    }
   ],
   "source": [
    "print (data[0])"
   ]
  },
  {
   "cell_type": "code",
   "execution_count": 145,
   "metadata": {
    "collapsed": false
   },
   "outputs": [
    {
     "name": "stdout",
     "output_type": "stream",
     "text": [
      "<class 'pandas.core.series.Series'>\n"
     ]
    }
   ],
   "source": [
    "print (type(y))"
   ]
  },
  {
   "cell_type": "code",
   "execution_count": 146,
   "metadata": {
    "collapsed": false
   },
   "outputs": [
    {
     "name": "stdout",
     "output_type": "stream",
     "text": [
      "(2468,)\n"
     ]
    }
   ],
   "source": [
    "print (y.shape)"
   ]
  },
  {
   "cell_type": "code",
   "execution_count": 147,
   "metadata": {
    "collapsed": true
   },
   "outputs": [],
   "source": [
    "y = np.concatenate(y).reshape(2468,17,1)"
   ]
  },
  {
   "cell_type": "code",
   "execution_count": 148,
   "metadata": {
    "collapsed": false
   },
   "outputs": [
    {
     "name": "stdout",
     "output_type": "stream",
     "text": [
      "(2468, 17, 1)\n"
     ]
    }
   ],
   "source": [
    "print (y.shape)"
   ]
  },
  {
   "cell_type": "code",
   "execution_count": 154,
   "metadata": {
    "collapsed": false
   },
   "outputs": [],
   "source": [
    "\n",
    "# one hot encode outputs\n",
    "y = keras.utils.to_categorical(y, num_classes=vocab_size)"
   ]
  },
  {
   "cell_type": "code",
   "execution_count": 149,
   "metadata": {
    "collapsed": true
   },
   "outputs": [],
   "source": [
    "x = data\n",
    "x = np.concatenate(x).reshape(2468,17,1)"
   ]
  },
  {
   "cell_type": "code",
   "execution_count": 150,
   "metadata": {
    "collapsed": false
   },
   "outputs": [
    {
     "name": "stdout",
     "output_type": "stream",
     "text": [
      "(2468, 17, 1)\n"
     ]
    }
   ],
   "source": [
    "print (x.shape)"
   ]
  },
  {
   "cell_type": "code",
   "execution_count": 163,
   "metadata": {
    "collapsed": false,
    "scrolled": true
   },
   "outputs": [
    {
     "name": "stdout",
     "output_type": "stream",
     "text": [
      "_________________________________________________________________\n",
      "Layer (type)                 Output Shape              Param #   \n",
      "=================================================================\n",
      "lstm_3 (LSTM)                (None, 17, 50)            10400     \n",
      "_________________________________________________________________\n",
      "dense_1 (Dense)              (None, 17, 27)            1377      \n",
      "=================================================================\n",
      "Total params: 11,777\n",
      "Trainable params: 11,777\n",
      "Non-trainable params: 0\n",
      "_________________________________________________________________\n",
      "None\n"
     ]
    }
   ],
   "source": [
    "# define model\n",
    "model = Sequential()\n",
    "model.add(LSTM(50,return_sequences=True, input_shape=(17,1)))\n",
    "model.add(Dense(vocab_size, activation='softmax'))\n",
    "print(model.summary())"
   ]
  },
  {
   "cell_type": "code",
   "execution_count": 164,
   "metadata": {
    "collapsed": true
   },
   "outputs": [],
   "source": [
    "model.compile(loss='categorical_crossentropy', optimizer='adam', metrics=['accuracy'])\n"
   ]
  },
  {
   "cell_type": "code",
   "execution_count": 167,
   "metadata": {
    "collapsed": false
   },
   "outputs": [
    {
     "name": "stdout",
     "output_type": "stream",
     "text": [
      "Epoch 1/100\n",
      " - 1s - loss: 0.6646 - acc: 0.8025\n",
      "Epoch 2/100\n",
      " - 1s - loss: 0.6453 - acc: 0.8091\n",
      "Epoch 3/100\n",
      " - 1s - loss: 0.6274 - acc: 0.8146\n",
      "Epoch 4/100\n",
      " - 1s - loss: 0.6110 - acc: 0.8197\n",
      "Epoch 5/100\n",
      " - 1s - loss: 0.5953 - acc: 0.8250\n",
      "Epoch 6/100\n",
      " - 1s - loss: 0.5806 - acc: 0.8285\n",
      "Epoch 7/100\n",
      " - 1s - loss: 0.5670 - acc: 0.8318\n",
      "Epoch 8/100\n",
      " - 1s - loss: 0.5539 - acc: 0.8318\n",
      "Epoch 9/100\n",
      " - 1s - loss: 0.5416 - acc: 0.8332\n",
      "Epoch 10/100\n",
      " - 1s - loss: 0.5297 - acc: 0.8354\n",
      "Epoch 11/100\n",
      " - 1s - loss: 0.5184 - acc: 0.8349\n",
      "Epoch 12/100\n",
      " - 1s - loss: 0.5076 - acc: 0.8372\n",
      "Epoch 13/100\n",
      " - 1s - loss: 0.4974 - acc: 0.8393\n",
      "Epoch 14/100\n",
      " - 1s - loss: 0.4873 - acc: 0.8420\n",
      "Epoch 15/100\n",
      " - 1s - loss: 0.4776 - acc: 0.8434\n",
      "Epoch 16/100\n",
      " - 1s - loss: 0.4683 - acc: 0.8483\n",
      "Epoch 17/100\n",
      " - 1s - loss: 0.4595 - acc: 0.8522\n",
      "Epoch 18/100\n",
      " - 1s - loss: 0.4509 - acc: 0.8585\n",
      "Epoch 19/100\n",
      " - 1s - loss: 0.4428 - acc: 0.8602\n",
      "Epoch 20/100\n",
      " - 1s - loss: 0.4350 - acc: 0.8634\n",
      "Epoch 21/100\n",
      " - 1s - loss: 0.4274 - acc: 0.8646\n",
      "Epoch 22/100\n",
      " - 1s - loss: 0.4200 - acc: 0.8667\n",
      "Epoch 23/100\n",
      " - 1s - loss: 0.4131 - acc: 0.8676\n",
      "Epoch 24/100\n",
      " - 1s - loss: 0.4065 - acc: 0.8692\n",
      "Epoch 25/100\n",
      " - 1s - loss: 0.4000 - acc: 0.8737\n",
      "Epoch 26/100\n",
      " - 1s - loss: 0.3934 - acc: 0.8758\n",
      "Epoch 27/100\n",
      " - 1s - loss: 0.3873 - acc: 0.8775\n",
      "Epoch 28/100\n",
      " - 1s - loss: 0.3811 - acc: 0.8786\n",
      "Epoch 29/100\n",
      " - 1s - loss: 0.3753 - acc: 0.8825\n",
      "Epoch 30/100\n",
      " - 1s - loss: 0.3694 - acc: 0.8836\n",
      "Epoch 31/100\n",
      " - 1s - loss: 0.3637 - acc: 0.8863\n",
      "Epoch 32/100\n",
      " - 1s - loss: 0.3582 - acc: 0.8869\n",
      "Epoch 33/100\n",
      " - 1s - loss: 0.3529 - acc: 0.8892\n",
      "Epoch 34/100\n",
      " - 1s - loss: 0.3478 - acc: 0.8921\n",
      "Epoch 35/100\n",
      " - 1s - loss: 0.3426 - acc: 0.8936\n",
      "Epoch 36/100\n",
      " - 1s - loss: 0.3376 - acc: 0.8954\n",
      "Epoch 37/100\n",
      " - 1s - loss: 0.3328 - acc: 0.8993\n",
      "Epoch 38/100\n",
      " - 1s - loss: 0.3284 - acc: 0.8975\n",
      "Epoch 39/100\n",
      " - 1s - loss: 0.3235 - acc: 0.9009\n",
      "Epoch 40/100\n",
      " - 1s - loss: 0.3191 - acc: 0.9029\n",
      "Epoch 41/100\n",
      " - 1s - loss: 0.3148 - acc: 0.9033\n",
      "Epoch 42/100\n",
      " - 1s - loss: 0.3107 - acc: 0.9052\n",
      "Epoch 43/100\n",
      " - 1s - loss: 0.3064 - acc: 0.9092\n",
      "Epoch 44/100\n",
      " - 1s - loss: 0.3022 - acc: 0.9102\n",
      "Epoch 45/100\n",
      " - 1s - loss: 0.2982 - acc: 0.9117\n",
      "Epoch 46/100\n",
      " - 1s - loss: 0.2944 - acc: 0.9150\n",
      "Epoch 47/100\n",
      " - 1s - loss: 0.2906 - acc: 0.9184\n",
      "Epoch 48/100\n",
      " - 1s - loss: 0.2866 - acc: 0.9187\n",
      "Epoch 49/100\n",
      " - 1s - loss: 0.2831 - acc: 0.9218\n",
      "Epoch 50/100\n",
      " - 1s - loss: 0.2798 - acc: 0.9237\n",
      "Epoch 51/100\n",
      " - 1s - loss: 0.2759 - acc: 0.9257\n",
      "Epoch 52/100\n",
      " - 1s - loss: 0.2725 - acc: 0.9278\n",
      "Epoch 53/100\n",
      " - 1s - loss: 0.2692 - acc: 0.9296\n",
      "Epoch 54/100\n",
      " - 1s - loss: 0.2658 - acc: 0.9303\n",
      "Epoch 55/100\n",
      " - 1s - loss: 0.2624 - acc: 0.9335\n",
      "Epoch 56/100\n",
      " - 1s - loss: 0.2592 - acc: 0.9370\n",
      "Epoch 57/100\n",
      " - 1s - loss: 0.2559 - acc: 0.9385\n",
      "Epoch 58/100\n",
      " - 1s - loss: 0.2526 - acc: 0.9389\n",
      "Epoch 59/100\n",
      " - 1s - loss: 0.2497 - acc: 0.9396\n",
      "Epoch 60/100\n",
      " - 1s - loss: 0.2468 - acc: 0.9409\n",
      "Epoch 61/100\n",
      " - 1s - loss: 0.2440 - acc: 0.9409\n",
      "Epoch 62/100\n",
      " - 1s - loss: 0.2412 - acc: 0.9422\n",
      "Epoch 63/100\n",
      " - 1s - loss: 0.2383 - acc: 0.9443\n",
      "Epoch 64/100\n",
      " - 1s - loss: 0.2356 - acc: 0.9433\n",
      "Epoch 65/100\n",
      " - 1s - loss: 0.2326 - acc: 0.9464\n",
      "Epoch 66/100\n",
      " - 1s - loss: 0.2301 - acc: 0.9449\n",
      "Epoch 67/100\n",
      " - 1s - loss: 0.2275 - acc: 0.9478\n",
      "Epoch 68/100\n",
      " - 1s - loss: 0.2251 - acc: 0.9484\n",
      "Epoch 69/100\n",
      " - 1s - loss: 0.2227 - acc: 0.9491\n",
      "Epoch 70/100\n",
      " - 1s - loss: 0.2200 - acc: 0.9506\n",
      "Epoch 71/100\n",
      " - 1s - loss: 0.2177 - acc: 0.9502\n",
      "Epoch 72/100\n",
      " - 1s - loss: 0.2153 - acc: 0.9515\n",
      "Epoch 73/100\n",
      " - 1s - loss: 0.2129 - acc: 0.9522\n",
      "Epoch 74/100\n",
      " - 1s - loss: 0.2106 - acc: 0.9536\n",
      "Epoch 75/100\n",
      " - 1s - loss: 0.2085 - acc: 0.9553\n",
      "Epoch 76/100\n",
      " - 1s - loss: 0.2060 - acc: 0.9535\n",
      "Epoch 77/100\n",
      " - 1s - loss: 0.2037 - acc: 0.9541\n",
      "Epoch 78/100\n",
      " - 1s - loss: 0.2017 - acc: 0.9564\n",
      "Epoch 79/100\n",
      " - 1s - loss: 0.1992 - acc: 0.9545\n",
      "Epoch 80/100\n",
      " - 1s - loss: 0.1971 - acc: 0.9561\n",
      "Epoch 81/100\n",
      " - 1s - loss: 0.1950 - acc: 0.9569\n",
      "Epoch 82/100\n",
      " - 1s - loss: 0.1931 - acc: 0.9576\n",
      "Epoch 83/100\n",
      " - 1s - loss: 0.1908 - acc: 0.9579\n",
      "Epoch 84/100\n",
      " - 1s - loss: 0.1888 - acc: 0.9568\n",
      "Epoch 85/100\n",
      " - 1s - loss: 0.1868 - acc: 0.9584\n",
      "Epoch 86/100\n",
      " - 1s - loss: 0.1848 - acc: 0.9586\n",
      "Epoch 87/100\n",
      " - 1s - loss: 0.1828 - acc: 0.9599\n",
      "Epoch 88/100\n",
      " - 1s - loss: 0.1806 - acc: 0.9603\n",
      "Epoch 89/100\n",
      " - 1s - loss: 0.1788 - acc: 0.9602\n",
      "Epoch 90/100\n",
      " - 1s - loss: 0.1768 - acc: 0.9614\n",
      "Epoch 91/100\n",
      " - 1s - loss: 0.1747 - acc: 0.9633\n",
      "Epoch 92/100\n",
      " - 1s - loss: 0.1729 - acc: 0.9612\n",
      "Epoch 93/100\n",
      " - 1s - loss: 0.1710 - acc: 0.9613\n",
      "Epoch 94/100\n",
      " - 1s - loss: 0.1692 - acc: 0.9641\n",
      "Epoch 95/100\n",
      " - 1s - loss: 0.1675 - acc: 0.9647\n",
      "Epoch 96/100\n",
      " - 1s - loss: 0.1659 - acc: 0.9633\n",
      "Epoch 97/100\n",
      " - 1s - loss: 0.1640 - acc: 0.9647\n",
      "Epoch 98/100\n",
      " - 1s - loss: 0.1624 - acc: 0.9653\n",
      "Epoch 99/100\n",
      " - 1s - loss: 0.1607 - acc: 0.9647\n",
      "Epoch 100/100\n",
      " - 1s - loss: 0.1591 - acc: 0.9669\n"
     ]
    },
    {
     "data": {
      "text/plain": [
       "<keras.callbacks.History at 0x115f37668>"
      ]
     },
     "execution_count": 167,
     "metadata": {},
     "output_type": "execute_result"
    }
   ],
   "source": [
    "model.fit(x, y, epochs=100, verbose=2)"
   ]
  },
  {
   "cell_type": "code",
   "execution_count": 171,
   "metadata": {
    "collapsed": false,
    "scrolled": true
   },
   "outputs": [],
   "source": [
    "\n",
    "model.save('model.h5')"
   ]
  },
  {
   "cell_type": "code",
   "execution_count": 176,
   "metadata": {
    "collapsed": false
   },
   "outputs": [
    {
     "name": "stdout",
     "output_type": "stream",
     "text": [
      "{' ': 0, ',': 1, 'a': 2, 'b': 3, 'c': 4, 'd': 5, 'e': 6, 'f': 7, 'g': 8, 'h': 9, 'i': 10, 'j': 11, 'k': 12, 'l': 13, 'm': 14, 'n': 15, 'o': 16, 'p': 17, 'q': 18, 'r': 19, 's': 20, 't': 21, 'u': 22, 'v': 23, 'w': 24, 'y': 25, 'z': 26}\n"
     ]
    }
   ],
   "source": [
    "print (char_to_ix)"
   ]
  },
  {
   "cell_type": "code",
   "execution_count": 179,
   "metadata": {
    "collapsed": false
   },
   "outputs": [],
   "source": [
    "dump(char_to_ix, open('mapping.pkl', 'wb'))"
   ]
  },
  {
   "cell_type": "code",
   "execution_count": 419,
   "metadata": {
    "collapsed": false
   },
   "outputs": [],
   "source": [
    "import tensorflow as tf\n",
    "sess = tf.Session()\n",
    "\n",
    "from keras import backend as K\n",
    "K.set_session(sess)\n",
    "\n",
    "# load the model\n",
    "model = load_model('model.h5')\n",
    "model.compile(loss='categorical_crossentropy', optimizer='adam', metrics=['accuracy'])"
   ]
  },
  {
   "cell_type": "code",
   "execution_count": 420,
   "metadata": {
    "collapsed": false
   },
   "outputs": [],
   "source": [
    "\n",
    "2\n",
    "# load the mapping\n",
    "mapping = load(open('mapping.pkl', 'rb'))"
   ]
  },
  {
   "cell_type": "code",
   "execution_count": 421,
   "metadata": {
    "collapsed": false
   },
   "outputs": [],
   "source": [
    "in_text = 'i'\n",
    "# encode the characters as integers\n",
    "encoded = [mapping[char] for char in in_text]"
   ]
  },
  {
   "cell_type": "code",
   "execution_count": 422,
   "metadata": {
    "collapsed": false
   },
   "outputs": [
    {
     "name": "stdout",
     "output_type": "stream",
     "text": [
      "[10]\n"
     ]
    }
   ],
   "source": [
    "print (encoded)"
   ]
  },
  {
   "cell_type": "code",
   "execution_count": 423,
   "metadata": {
    "collapsed": false
   },
   "outputs": [
    {
     "name": "stdout",
     "output_type": "stream",
     "text": [
      "{' ': 0, ',': 1, 'a': 2, 'b': 3, 'c': 4, 'd': 5, 'e': 6, 'f': 7, 'g': 8, 'h': 9, 'i': 10, 'j': 11, 'k': 12, 'l': 13, 'm': 14, 'n': 15, 'o': 16, 'p': 17, 'q': 18, 'r': 19, 's': 20, 't': 21, 'u': 22, 'v': 23, 'w': 24, 'y': 25, 'z': 26}\n"
     ]
    }
   ],
   "source": [
    "print (mapping)"
   ]
  },
  {
   "cell_type": "code",
   "execution_count": 441,
   "metadata": {
    "collapsed": false
   },
   "outputs": [],
   "source": [
    "# text = np.array([1,2,3,4,5,0,0,0,0,0,0,0,0,0,0,0,0])\n",
    "\n",
    "text = np.random.randint(1, high=26, size=6, dtype='l')\n",
    "remaining = np.array([0,0,0,0,0,0,0,0,0,0,0])\n",
    "text = np.concatenate((text, remaining))"
   ]
  },
  {
   "cell_type": "code",
   "execution_count": 442,
   "metadata": {
    "collapsed": false
   },
   "outputs": [
    {
     "name": "stdout",
     "output_type": "stream",
     "text": [
      "[11 14  1  5 22 18  0  0  0  0  0  0  0  0  0  0  0]\n"
     ]
    }
   ],
   "source": [
    "print (text)"
   ]
  },
  {
   "cell_type": "code",
   "execution_count": 443,
   "metadata": {
    "collapsed": false
   },
   "outputs": [
    {
     "name": "stdout",
     "output_type": "stream",
     "text": [
      "17\n"
     ]
    }
   ],
   "source": [
    "print (len(text))"
   ]
  },
  {
   "cell_type": "code",
   "execution_count": 444,
   "metadata": {
    "collapsed": false
   },
   "outputs": [],
   "source": [
    "# print (type((data[0])))"
   ]
  },
  {
   "cell_type": "code",
   "execution_count": 445,
   "metadata": {
    "collapsed": false
   },
   "outputs": [
    {
     "name": "stdout",
     "output_type": "stream",
     "text": [
      "(17,)\n"
     ]
    }
   ],
   "source": [
    "print (text.shape)"
   ]
  },
  {
   "cell_type": "code",
   "execution_count": 446,
   "metadata": {
    "collapsed": false
   },
   "outputs": [
    {
     "name": "stdout",
     "output_type": "stream",
     "text": [
      "[11 14  1  5 22 18  0  0  0  0  0  0  0  0  0  0  0]\n"
     ]
    }
   ],
   "source": [
    "print (text)"
   ]
  },
  {
   "cell_type": "code",
   "execution_count": 447,
   "metadata": {
    "collapsed": false
   },
   "outputs": [
    {
     "name": "stdout",
     "output_type": "stream",
     "text": [
      "['j', 'm', ',', 'd', 'u', 'q', ' ', ' ', ' ', ' ', ' ', ' ', ' ', ' ', ' ', ' ', ' ']\n"
     ]
    }
   ],
   "source": [
    "actualchars = []\n",
    "for value in text:\n",
    "    actualchars.append(list(mapping.keys())[list(mapping.values()).index(value)])\n",
    "print (actualchars)"
   ]
  },
  {
   "cell_type": "code",
   "execution_count": 448,
   "metadata": {
    "collapsed": false
   },
   "outputs": [],
   "source": [
    "\n",
    "text  = text.reshape(1,17,1)"
   ]
  },
  {
   "cell_type": "code",
   "execution_count": 449,
   "metadata": {
    "collapsed": false
   },
   "outputs": [
    {
     "name": "stdout",
     "output_type": "stream",
     "text": [
      "[[[11]\n",
      "  [14]\n",
      "  [ 1]\n",
      "  [ 5]\n",
      "  [22]\n",
      "  [18]\n",
      "  [ 0]\n",
      "  [ 0]\n",
      "  [ 0]\n",
      "  [ 0]\n",
      "  [ 0]\n",
      "  [ 0]\n",
      "  [ 0]\n",
      "  [ 0]\n",
      "  [ 0]\n",
      "  [ 0]\n",
      "  [ 0]]]\n"
     ]
    }
   ],
   "source": [
    " print (text)"
   ]
  },
  {
   "cell_type": "code",
   "execution_count": 450,
   "metadata": {
    "collapsed": true
   },
   "outputs": [],
   "source": [
    "np.save('text.npy', text)"
   ]
  },
  {
   "cell_type": "code",
   "execution_count": 451,
   "metadata": {
    "collapsed": false
   },
   "outputs": [
    {
     "data": {
      "text/plain": [
       "'/Users/jac812i/Documents/projects/indianbabynames'"
      ]
     },
     "execution_count": 451,
     "metadata": {},
     "output_type": "execute_result"
    }
   ],
   "source": [
    "%pwd"
   ]
  },
  {
   "cell_type": "code",
   "execution_count": 433,
   "metadata": {
    "collapsed": false
   },
   "outputs": [],
   "source": [
    "prediction = model.predict(text)"
   ]
  },
  {
   "cell_type": "code",
   "execution_count": 434,
   "metadata": {
    "collapsed": false
   },
   "outputs": [],
   "source": [
    "# print (prediction)"
   ]
  },
  {
   "cell_type": "code",
   "execution_count": 435,
   "metadata": {
    "collapsed": false
   },
   "outputs": [
    {
     "name": "stdout",
     "output_type": "stream",
     "text": [
      "(1, 17, 27)\n"
     ]
    }
   ],
   "source": [
    "print (prediction.shape)"
   ]
  },
  {
   "cell_type": "code",
   "execution_count": 436,
   "metadata": {
    "collapsed": false
   },
   "outputs": [
    {
     "name": "stdout",
     "output_type": "stream",
     "text": [
      "[17, 14, 22, 20, 25, 15, 0, 0, 0, 0, 0, 0, 0, 0, 0, 0, 0]\n",
      "17\n"
     ]
    }
   ],
   "source": [
    "i = 0\n",
    "predictedvalues = []\n",
    "for values in prediction:\n",
    "#     print (value)\n",
    "    for value in values:\n",
    "        predictedvalues.append(np.argmax(value))\n",
    "        i = i + 1\n",
    "print (predictedvalues)\n",
    "print (len(predictedvalues))"
   ]
  },
  {
   "cell_type": "code",
   "execution_count": 437,
   "metadata": {
    "collapsed": false
   },
   "outputs": [
    {
     "name": "stdout",
     "output_type": "stream",
     "text": [
      "{' ': 0, ',': 1, 'a': 2, 'b': 3, 'c': 4, 'd': 5, 'e': 6, 'f': 7, 'g': 8, 'h': 9, 'i': 10, 'j': 11, 'k': 12, 'l': 13, 'm': 14, 'n': 15, 'o': 16, 'p': 17, 'q': 18, 'r': 19, 's': 20, 't': 21, 'u': 22, 'v': 23, 'w': 24, 'y': 25, 'z': 26}\n"
     ]
    }
   ],
   "source": [
    "print (mapping)"
   ]
  },
  {
   "cell_type": "code",
   "execution_count": 438,
   "metadata": {
    "collapsed": false,
    "scrolled": true
   },
   "outputs": [
    {
     "name": "stdout",
     "output_type": "stream",
     "text": [
      "['p', 'm', 'u', 's', 'y', 'n', ' ', ' ', ' ', ' ', ' ', ' ', ' ', ' ', ' ', ' ', ' ']\n"
     ]
    }
   ],
   "source": [
    "predictedchars = []\n",
    "for value in predictedvalues:\n",
    "    predictedchars.append(list(mapping.keys())[list(mapping.values()).index(value)])\n",
    "print (predictedchars)"
   ]
  }
 ],
 "metadata": {
  "anaconda-cloud": {},
  "kernelspec": {
   "display_name": "tensorflowkeras",
   "language": "python",
   "name": "tensorflowkeras"
  },
  "language_info": {
   "codemirror_mode": {
    "name": "ipython",
    "version": 3
   },
   "file_extension": ".py",
   "mimetype": "text/x-python",
   "name": "python",
   "nbconvert_exporter": "python",
   "pygments_lexer": "ipython3",
   "version": "3.6.1"
  }
 },
 "nbformat": 4,
 "nbformat_minor": 2
}
